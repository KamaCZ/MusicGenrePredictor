{
 "cells": [
  {
   "cell_type": "code",
   "execution_count": 4,
   "metadata": {},
   "outputs": [],
   "source": [
    "import pandas as pd\n",
    "from sklearn.tree import DecisionTreeClassifier\n",
    "from sklearn import tree\n",
    "\n",
    "music_data = pd.read_csv(\"music.csv\")\n",
    "X = music_data.drop(columns=[\"genre\"])\n",
    "y = music_data[\"genre\"]\n",
    "\n",
    "model = DecisionTreeClassifier()\n",
    "model.fit(X,y)\n",
    "\n",
    "tree.export_graphviz(model, out_file=\"music-recommender.dot\", feature_names=[\"age\",\"gender \"],\n",
    "                    class_names=sorted(y.unique()), label=\"all\", rounded=True, filled=True)\n",
    "# filled=True - each box is filled with color\n",
    "# rounded=True - boxes have rounded corners\n",
    "# label=\"all\" - every note has a label that we can read\n",
    "# class_names=sorted(y.unique()) - we set class name to unique list of genres so we get a class for each note\n",
    "# feauture_names=[\"age\",\"gender\"] - we can see the rules for the notes\n",
    "# dot format = graph description language\n",
    "\n",
    "# To see the decision tree graphically:\n",
    "    # open this file in Visual code studio\n",
    "    # dowload extension: graphviz (dot) by Joao Pinto\n",
    "    # go to the right side and click on the ... (three dots)\n",
    "    # choose \"Open preview to the Side\"\n"
   ]
  },
  {
   "cell_type": "code",
   "execution_count": null,
   "metadata": {},
   "outputs": [],
   "source": []
  }
 ],
 "metadata": {
  "kernelspec": {
   "display_name": "Python 3",
   "language": "python",
   "name": "python3"
  },
  "language_info": {
   "codemirror_mode": {
    "name": "ipython",
    "version": 3
   },
   "file_extension": ".py",
   "mimetype": "text/x-python",
   "name": "python",
   "nbconvert_exporter": "python",
   "pygments_lexer": "ipython3",
   "version": "3.8.3"
  }
 },
 "nbformat": 4,
 "nbformat_minor": 4
}
